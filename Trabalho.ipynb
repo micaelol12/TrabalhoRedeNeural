{
 "cells": [
  {
   "cell_type": "code",
   "execution_count": 3,
   "id": "ac432841-091e-4610-bf46-e030efd0beac",
   "metadata": {},
   "outputs": [
    {
     "name": "stdout",
     "output_type": "stream",
     "text": [
      "Accuracy 1.0\n"
     ]
    }
   ],
   "source": [
    "import csv\n",
    "from sklearn.neural_network import MLPClassifier\n",
    "from sklearn.metrics import accuracy_score\n",
    "\n",
    "filePath = \"mudas_pinus.csv\"\n",
    "dataSet = []\n",
    "respostas = []\n",
    "\n",
    "with open(filePath, newline='') as csvfile:\n",
    "    csvreader = csv.reader(csvfile)\n",
    "    #Pular a primeira linha\n",
    "    next(csvreader)\n",
    "    for row in csvreader:\n",
    "            res = [eval(i) for i in row]\n",
    "            dataSet.append(res)\n",
    "\n",
    "\n",
    "for x in dataSet:\n",
    "    ultimo_elemento = x.pop()\n",
    "    respostas.append(ultimo_elemento)\n",
    "\n",
    "#Treino\n",
    "treino_slice = slice(600)\n",
    "treino = dataSet[treino_slice]\n",
    "treino_respostas = respostas[treino_slice]\n",
    "modelo = MLPClassifier()\n",
    "modelo.fit(treino,treino_respostas)\n",
    "\n",
    "#Teste\n",
    "teste_slice = slice(600,1086)\n",
    "teste = dataSet[teste_slice]\n",
    "teste_respostas = respostas[teste_slice]\n",
    "\n",
    "preditos = modelo.predict(teste)\n",
    "accuracy = accuracy_score(preditos,teste_respostas)\n",
    "\n",
    "print(\"Accuracy\",accuracy)\n"
   ]
  }
 ],
 "metadata": {
  "kernelspec": {
   "display_name": "Python 3 (ipykernel)",
   "language": "python",
   "name": "python3"
  },
  "language_info": {
   "codemirror_mode": {
    "name": "ipython",
    "version": 3
   },
   "file_extension": ".py",
   "mimetype": "text/x-python",
   "name": "python",
   "nbconvert_exporter": "python",
   "pygments_lexer": "ipython3",
   "version": "3.12.6"
  }
 },
 "nbformat": 4,
 "nbformat_minor": 5
}
