{
 "cells": [
  {
   "cell_type": "code",
   "execution_count": 21,
   "id": "ac432841-091e-4610-bf46-e030efd0beac",
   "metadata": {},
   "outputs": [
    {
     "name": "stdout",
     "output_type": "stream",
     "text": [
      "1086\n",
      "Accuracy 1.0\n"
     ]
    },
    {
     "name": "stderr",
     "output_type": "stream",
     "text": [
      "c:\\Users\\User\\Desktop\\Processamento de imagem\\TrabalhoRedeNeural\\sklearn-env\\Lib\\site-packages\\sklearn\\neural_network\\_multilayer_perceptron.py:690: ConvergenceWarning: Stochastic Optimizer: Maximum iterations (200) reached and the optimization hasn't converged yet.\n",
      "  warnings.warn(\n"
     ]
    }
   ],
   "source": [
    "import csv\n",
    "from sklearn.neural_network import MLPClassifier\n",
    "from sklearn.metrics import accuracy_score\n",
    "\n",
    "filePath = \"mudas_pinus.csv\"\n",
    "# Reading a CSV file\n",
    "\n",
    "dataSet = []\n",
    "\n",
    "with open(filePath, newline='') as csvfile:\n",
    "    csvreader = csv.reader(csvfile)\n",
    "    #Pular a primeira linha\n",
    "    next(csvreader)\n",
    "    for row in csvreader:\n",
    "            res = [eval(i) for i in row]\n",
    "            dataSet.append(res)\n",
    "\n",
    "respostas = []\n",
    "\n",
    "for x in dataSet:\n",
    "    ultimo_elemento = x.pop()\n",
    "    respostas.append(ultimo_elemento)\n",
    "\n",
    "print(len(dataSet))\n",
    "\n",
    "#Treino\n",
    "treino_slice = slice(600)\n",
    "treino = dataSet[treino_slice]\n",
    "treino_respostas = respostas[treino_slice]\n",
    "modelo = MLPClassifier()\n",
    "modelo.fit(treino,treino_respostas)\n",
    "\n",
    "#Teste\n",
    "teste_slice = slice(600,1086)\n",
    "teste = dataSet[teste_slice]\n",
    "teste_respostas = respostas[teste_slice]\n",
    "\n",
    "preditos = modelo.predict(teste)\n",
    "accuracy = accuracy_score(preditos,teste_respostas)\n",
    "\n",
    "print(\"Accuracy\",accuracy)\n"
   ]
  },
  {
   "cell_type": "code",
   "execution_count": null,
   "id": "da0d1602-119b-4eec-8c6e-ed649596cba5",
   "metadata": {},
   "outputs": [],
   "source": []
  },
  {
   "cell_type": "code",
   "execution_count": null,
   "id": "2d5651cf-74d1-4b51-8d01-34e2d7f0ba95",
   "metadata": {},
   "outputs": [],
   "source": []
  }
 ],
 "metadata": {
  "kernelspec": {
   "display_name": "Python 3 (ipykernel)",
   "language": "python",
   "name": "python3"
  },
  "language_info": {
   "codemirror_mode": {
    "name": "ipython",
    "version": 3
   },
   "file_extension": ".py",
   "mimetype": "text/x-python",
   "name": "python",
   "nbconvert_exporter": "python",
   "pygments_lexer": "ipython3",
   "version": "3.12.6"
  }
 },
 "nbformat": 4,
 "nbformat_minor": 5
}
